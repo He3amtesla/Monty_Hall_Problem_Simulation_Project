{
 "cells": [
  {
   "cell_type": "code",
   "execution_count": null,
   "metadata": {},
   "outputs": [
    {
     "data": {
      "text/plain": [
       "0.3127985310020449"
      ]
     },
     "execution_count": 439,
     "metadata": {},
     "output_type": "execute_result"
    }
   ],
   "source": [
    "import random\n",
    "import timeit\n",
    "def monty_hell_game(switch_doors):\n",
    "    doors = [\"goat\", \"goat\", \"Expensive Car\"]\n",
    "    \n",
    "    random.shuffle(doors)\n",
    "    \n",
    "    initial_choice = random.choice(range(3)) # انتخاب اول کاربر \n",
    "    if switch_doors:\n",
    "        # initial_choice = random.choice(range(3))\n",
    "        # door_revealeds = [i for i in range (3) if doors[i] != \"Expensive Car\" and i != initial_choice]\n",
    "        # door_revealed = random.choice(door_revealeds)\n",
    "        # remaining_doors = [i for i in range(3) if i != initial_choice and i != door_revealed]\n",
    "        # final_choice = doors [remaining_doors[0]]\n",
    "        \n",
    "        # کد بالای از پایینی سرعت نسبتا کمتری دارد!\n",
    "        \n",
    "        door_revealeds = [i for i in range (3) if doors[i] != \"Expensive Car\" and i != initial_choice]\n",
    "        del doors[initial_choice]\n",
    "        doors.insert(initial_choice, None)\n",
    "        door_revealed = random.choice(door_revealeds)\n",
    "        \n",
    "        del doors[door_revealed]    \n",
    "        doors.remove(None)\n",
    "        final_choice = doors[0]\n",
    "    else:\n",
    "        final_choice = doors[initial_choice]\n",
    "        \n",
    "    return final_choice == \"Expensive Car\"\n",
    "\n",
    "timeit.timeit(lambda: monty_hell_game(True), number=100000)"
   ]
  },
  {
   "cell_type": "code",
   "execution_count": 448,
   "metadata": {},
   "outputs": [
    {
     "data": {
      "text/plain": [
       "'num_words_with_switching_percent: 0.66869, num_words_without_switching_percent: 0.33252'"
      ]
     },
     "execution_count": 448,
     "metadata": {},
     "output_type": "execute_result"
    }
   ],
   "source": [
    "def simulate_game(number_counter):\n",
    "    num_words_without_switching = sum([monty_hell_game(False) for _ in range(number_counter)])\n",
    "    num_words_with_switching = sum([monty_hell_game(True) for _ in range(number_counter)])\n",
    "    return f\"num_words_with_switching_percent: {num_words_with_switching/number_counter}, num_words_without_switching_percent: {num_words_without_switching/number_counter}\"\n",
    "#note: مقدار باینری درست 1 هست و با جمع کردن با متدد سام میشه تعداد درست هارو فهمید\n",
    "simulate_game(100000)"
   ]
  },
  {
   "cell_type": "markdown",
   "metadata": {},
   "source": [
    "doors.remove(doors[door_revealed])  #del براساس اندکس حذف میکند و remove برای اساس مقدار(نام مقدار) در لیست\n"
   ]
  },
  {
   "cell_type": "code",
   "execution_count": null,
   "metadata": {},
   "outputs": [
    {
     "ename": "NameError",
     "evalue": "name 'ddd' is not defined",
     "output_type": "error",
     "traceback": [
      "\u001b[0;31m---------------------------------------------------------------------------\u001b[0m",
      "\u001b[0;31mNameError\u001b[0m                                 Traceback (most recent call last)",
      "Cell \u001b[0;32mIn[127], line 1\u001b[0m\n\u001b[0;32m----> 1\u001b[0m ddd\u001b[38;5;241m.\u001b[39mremove(\u001b[38;5;124m'\u001b[39m\u001b[38;5;124m1\u001b[39m\u001b[38;5;124m'\u001b[39m) ;ddd\u001b[38;5;241m.\u001b[39mremove(\u001b[38;5;124m'\u001b[39m\u001b[38;5;124m2\u001b[39m\u001b[38;5;124m'\u001b[39m)\n",
      "\u001b[0;31mNameError\u001b[0m: name 'ddd' is not defined"
     ]
    }
   ],
   "source": [
    "ddd.remove('1') ;ddd.remove('2')"
   ]
  },
  {
   "cell_type": "code",
   "execution_count": null,
   "metadata": {},
   "outputs": [
    {
     "name": "stdout",
     "output_type": "stream",
     "text": [
      "لیست اولیه: ['a', 'b', 'c']\n",
      "عنصری که از اندیس ۲ انتخاب شده: c\n",
      "لیست پس از حذف عنصر 'a': ['b', 'c']\n",
      "خطا رخ داد: list index out of range\n"
     ]
    }
   ],
   "source": [
    "import random\n",
    "\n",
    "my_list = [\"a\", \"b\", \"c\"]\n",
    "print(\"لیست اولیه:\", my_list)\n",
    "\n",
    "index_chosen = 2  \n",
    "print(\"عنصری که از اندیس ۲ انتخاب شده:\", my_list[index_chosen])\n",
    "\n",
    "removed_value = my_list[0]  \n",
    "my_list.remove(removed_value) \n",
    "print(\"لیست پس از حذف عنصر 'a':\", my_list)\n",
    "\n",
    "try:\n",
    "    print(\"دسترسی به عنصر با اندیس ۲ پس از حذف:\", my_list[index_chosen])\n",
    "except IndexError as e:\n",
    "    print(\"خطا رخ داد:\", e)\n"
   ]
  },
  {
   "cell_type": "code",
   "execution_count": null,
   "metadata": {},
   "outputs": [],
   "source": []
  }
 ],
 "metadata": {
  "kernelspec": {
   "display_name": "py310",
   "language": "python",
   "name": "python3"
  },
  "language_info": {
   "codemirror_mode": {
    "name": "ipython",
    "version": 3
   },
   "file_extension": ".py",
   "mimetype": "text/x-python",
   "name": "python",
   "nbconvert_exporter": "python",
   "pygments_lexer": "ipython3",
   "version": "3.10.15"
  }
 },
 "nbformat": 4,
 "nbformat_minor": 2
}
