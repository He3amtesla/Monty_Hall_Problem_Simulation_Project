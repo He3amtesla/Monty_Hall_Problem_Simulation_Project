{
 "cells": [
  {
   "cell_type": "code",
   "execution_count": null,
   "metadata": {},
   "outputs": [],
   "source": [
    "import random\n",
    "def monty_hell_game(switch_doors):\n",
    "    doors = [\"goat\", \"goat\", \"Expensive Car\"]\n",
    "    \n",
    "    random.shuffle(doors)\n",
    "    \n",
    "    initial_choice = random.choice(range(3)) # انتخاب اول کاربر\n",
    "        \n",
    "    if switch_doors:\n",
    "        door_revealeds = [i for i in range (3) if doors[i] != \"Expensive Car\" and i != initial_choice]\n",
    "        \n",
    "        del doors[initial_choice]\n",
    "        doors.insert(initial_choice, None) #todo حذف کردن None\n",
    "        door_revealed = random.choice(door_revealeds)\n",
    "        \n",
    "        del doors[door_revealed]    \n",
    "\n",
    "        final_choice = doors[0]\n",
    "    else:\n",
    "        final_choice = initial_choice\n",
    "        \n",
    "    return final_choice == \"Expensive Car\""
   ]
  },
  {
   "cell_type": "code",
   "execution_count": 623,
   "metadata": {},
   "outputs": [
    {
     "data": {
      "text/plain": [
       "False"
      ]
     },
     "execution_count": 623,
     "metadata": {},
     "output_type": "execute_result"
    }
   ],
   "source": [
    "monty_hell_game(True)"
   ]
  },
  {
   "cell_type": "markdown",
   "metadata": {},
   "source": [
    "doors.remove(doors[door_revealed])  #del براساس اندکس حذف میکند و remove برای اساس مقدار(نام مقدار) در لیست\n"
   ]
  },
  {
   "cell_type": "code",
   "execution_count": 474,
   "metadata": {},
   "outputs": [],
   "source": [
    "ddd.remove('1') ;ddd.remove('2')"
   ]
  },
  {
   "cell_type": "code",
   "execution_count": 471,
   "metadata": {},
   "outputs": [
    {
     "name": "stdout",
     "output_type": "stream",
     "text": [
      "لیست اولیه: ['a', 'b', 'c']\n",
      "عنصری که از اندیس ۲ انتخاب شده: c\n",
      "لیست پس از حذف عنصر 'a': ['b', 'c']\n",
      "خطا رخ داد: list index out of range\n"
     ]
    }
   ],
   "source": [
    "import random\n",
    "\n",
    "my_list = [\"a\", \"b\", \"c\"]\n",
    "print(\"لیست اولیه:\", my_list)\n",
    "\n",
    "index_chosen = 2  \n",
    "print(\"عنصری که از اندیس ۲ انتخاب شده:\", my_list[index_chosen])\n",
    "\n",
    "removed_value = my_list[0]  \n",
    "my_list.remove(removed_value) \n",
    "print(\"لیست پس از حذف عنصر 'a':\", my_list)\n",
    "\n",
    "try:\n",
    "    print(\"دسترسی به عنصر با اندیس ۲ پس از حذف:\", my_list[index_chosen])\n",
    "except IndexError as e:\n",
    "    print(\"خطا رخ داد:\", e)\n"
   ]
  },
  {
   "cell_type": "code",
   "execution_count": null,
   "metadata": {},
   "outputs": [],
   "source": []
  }
 ],
 "metadata": {
  "kernelspec": {
   "display_name": "py310",
   "language": "python",
   "name": "python3"
  },
  "language_info": {
   "codemirror_mode": {
    "name": "ipython",
    "version": 3
   },
   "file_extension": ".py",
   "mimetype": "text/x-python",
   "name": "python",
   "nbconvert_exporter": "python",
   "pygments_lexer": "ipython3",
   "version": "3.10.15"
  }
 },
 "nbformat": 4,
 "nbformat_minor": 2
}
